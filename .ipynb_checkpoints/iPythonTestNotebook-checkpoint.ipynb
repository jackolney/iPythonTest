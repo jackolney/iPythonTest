{
 "cells": [
  {
   "cell_type": "markdown",
   "metadata": {},
   "source": [
    "# Hello.\n",
    "\n",
    "This should just be some markdown text."
   ]
  },
  {
   "cell_type": "code",
   "execution_count": 1,
   "metadata": {
    "collapsed": false
   },
   "outputs": [
    {
     "name": "stdout",
     "output_type": "stream",
     "text": [
      "/Users/Jack/git/iPythonTest\n"
     ]
    }
   ],
   "source": [
    "import os\n",
    "print os.getcwd()"
   ]
  },
  {
   "cell_type": "markdown",
   "metadata": {},
   "source": [
    "Now, I'm going to attempt to do some fun stuff in python from a tutorial by Alex Woods."
   ]
  },
  {
   "cell_type": "code",
   "execution_count": 2,
   "metadata": {
    "collapsed": true
   },
   "outputs": [],
   "source": [
    "class Car:\n",
    "    def __init__(self):\n",
    "        self.velocity = 0\n",
    "        self.position = 0\n",
    "        self.speeds = []\n",
    "        self.places = []\n",
    "    \n",
    "    def setVelocity(self, v):            # a negative value will slow the car down\n",
    "        self.velocity = v\n",
    "        \n",
    "    def getVelocity(self):\n",
    "        return self.velocity\n",
    "        \n",
    "    def getPos(self):\n",
    "        return self.position\n",
    "     \n",
    "    def resetPos(self):                # the cars are on a circular track\n",
    "        self.position = 0\n",
    "    \n",
    "    def moveUp(self): \n",
    "        self.places.append(self.position)      # I want to be able to visualize the data in some way later \n",
    "        self.speeds.append(self.velocity)\n",
    "        self.position += self.velocity\n",
    "        \n",
    "    def showHistory(self):\n",
    "        print(self.places)\n",
    "        \n",
    "    def getPlaces(self):\n",
    "        return self.places\n",
    "    \n",
    "    def getSpeeds(self):\n",
    "        return self.speeds"
   ]
  },
  {
   "cell_type": "code",
   "execution_count": 3,
   "metadata": {
    "collapsed": true
   },
   "outputs": [],
   "source": [
    "import random\n",
    "\n",
    "class Road:\n",
    "    def __init__(self, speedLimit, prob, cells):\n",
    "        self.road = []\n",
    "        self.speedLimit = speedLimit\n",
    "        self.prob = prob                  # the probability p in step 3\n",
    "        self.cells = cells\n",
    "        \n",
    "    def addCar(self, car):\n",
    "        self.road.append(car)\n",
    "        \n",
    "    def getCars(self):\n",
    "        return self.road\n",
    "    \n",
    "    def getLimit(self):\n",
    "        return self.speedLimit\n",
    "        \n",
    "    def increaseOne(self, ind):                 # Step 1\n",
    "        car = self.road[ind]\n",
    "        return min(car.getVelocity()+1, self.getLimit())\n",
    "    \n",
    "    def getDistance(self, carA, carB):                # carA has to be behind carB.\n",
    "        return carB.getPos() - carA.getPos()\n",
    "    \n",
    "    def adjustVelocity(self, ind1, ind2):               # carA is the car being updated! This is Step 2\n",
    "        carA = self.road[ind1]\n",
    "        carB = self.road[ind2]\n",
    "        v = min(self.getDistance(carA, carB)-1, carA.getVelocity())\n",
    "        v = max(v, 0)\n",
    "        return v\n",
    "    \n",
    "    def someRandomness(self, ind):              # Step 3\n",
    "        car = self.road[ind]\n",
    "        v = car.getVelocity()\n",
    "        if (random.random() < self.prob) and v > 1:\n",
    "            v -= 1\n",
    "        return v\n",
    "    \n",
    "    def update(self, ind, v):\n",
    "        car = self.road[ind]\n",
    "        car.setVelocity(v)\n",
    "    \n",
    "    def moveCar(self, ind, v):\n",
    "        car = self.road[ind]\n",
    "        car.setVelocity(v)\n",
    "        car.moveUp()\n",
    "    \n",
    "    def show(self):\n",
    "        print(\"Cars = \", len(self.road), \"\\n\", \"spaces = \", self.cells, \"\\n\", \"speed limit = \", self.speedLimit, \"\\n\", \"p = \", self.prob)"
   ]
  },
  {
   "cell_type": "code",
   "execution_count": 4,
   "metadata": {
    "collapsed": false
   },
   "outputs": [
    {
     "name": "stdout",
     "output_type": "stream",
     "text": [
      "('Cars = ', 50, '\\n', 'spaces = ', 60, '\\n', 'speed limit = ', 5, '\\n', 'p = ', 0.5)\n"
     ]
    }
   ],
   "source": [
    "monteCarlo = Road(5, 0.5, 60)        # a speed limit of 10 and a probability of .3\n",
    "\n",
    "for i in range(50):\n",
    "    temp = Car()\n",
    "    monteCarlo.addCar(temp)\n",
    "    \n",
    "monteCarlo.show()"
   ]
  },
  {
   "cell_type": "code",
   "execution_count": 5,
   "metadata": {
    "collapsed": false
   },
   "outputs": [],
   "source": [
    "# Ok now let's actually run the model.\n",
    "\n",
    "for i in range(200):\n",
    "    for j in range(len(monteCarlo.getCars())):\n",
    "        v = monteCarlo.increaseOne(j)                       # step 1\n",
    "        monteCarlo.update(j, v)\n",
    "#         print(\"v = \", v)                   # for debugging purposes\n",
    "        \n",
    "        if j != 0: v = monteCarlo.adjustVelocity(j, j-1)       # step 2\n",
    "        monteCarlo.update(j, v)\n",
    "#         print(\"v2 = \", v)\n",
    "            \n",
    "        v = monteCarlo.someRandomness(j)\n",
    "        monteCarlo.update(j, v)\n",
    "#         print(\"v3 = \", v)\n",
    "        \n",
    "        monteCarlo.moveCar(j, v)\n",
    "#         print(\"done\", \"\\n\")\n",
    "#     print(\"new round\")"
   ]
  },
  {
   "cell_type": "code",
   "execution_count": 6,
   "metadata": {
    "collapsed": false
   },
   "outputs": [
    {
     "name": "stdout",
     "output_type": "stream",
     "text": [
      "50\n",
      "[[  0   0   0 ...,   0   0   0]\n",
      " [  1   0   0 ...,   0   0   0]\n",
      " [  2   1   0 ...,   0   0   0]\n",
      " ..., \n",
      " [853 852 844 ..., 408 403 397]\n",
      " [858 856 849 ..., 412 407 402]\n",
      " [863 860 853 ..., 417 411 407]]\n"
     ]
    }
   ],
   "source": [
    "# now let's look at the results and see what we need to adjust.\n",
    "import numpy as np\n",
    "places = []\n",
    "speeds = []\n",
    "\n",
    "for i in monteCarlo.getCars():\n",
    "    places.append(i.getPlaces())\n",
    "    speeds.append(i.getSpeeds())\n",
    "\n",
    "print(len(speeds))      # each column represents a car, the rows represent time.\n",
    "\n",
    "pl = np.asarray(places)\n",
    "pl = pl.transpose()\n",
    "\n",
    "sp = np.asarray(speeds)\n",
    "sp = sp.transpose()\n",
    "\n",
    "print(pl)"
   ]
  },
  {
   "cell_type": "code",
   "execution_count": 7,
   "metadata": {
    "collapsed": false
   },
   "outputs": [
    {
     "data": {
      "text/plain": [
       "(200, 50)"
      ]
     },
     "execution_count": 7,
     "metadata": {},
     "output_type": "execute_result"
    }
   ],
   "source": [
    "pl.shape"
   ]
  },
  {
   "cell_type": "code",
   "execution_count": 8,
   "metadata": {
    "collapsed": true
   },
   "outputs": [],
   "source": [
    "# Each column in pl represents a car. Each row represents an iteration, or a passing of time.\n",
    "# now I'm going to make a dictionary so I can put it into a pandas dataframe easily\n",
    "\n",
    "dataPlaces = {}\n",
    "\n",
    "for i in range(50):\n",
    "    dataPlaces[i] = pl[:,i]"
   ]
  },
  {
   "cell_type": "code",
   "execution_count": 9,
   "metadata": {
    "collapsed": false
   },
   "outputs": [],
   "source": [
    "dataSpeeds = {}\n",
    "\n",
    "for i in range(50):\n",
    "    dataSpeeds[i] = sp[:,i]"
   ]
  },
  {
   "cell_type": "code",
   "execution_count": 10,
   "metadata": {
    "collapsed": false
   },
   "outputs": [
    {
     "data": {
      "text/html": [
       "<div style=\"max-height:1000px;max-width:1500px;overflow:auto;\">\n",
       "<table border=\"1\" class=\"dataframe\">\n",
       "  <thead>\n",
       "    <tr style=\"text-align: right;\">\n",
       "      <th></th>\n",
       "      <th>0</th>\n",
       "      <th>1</th>\n",
       "      <th>2</th>\n",
       "      <th>3</th>\n",
       "      <th>4</th>\n",
       "      <th>5</th>\n",
       "      <th>6</th>\n",
       "      <th>7</th>\n",
       "      <th>8</th>\n",
       "      <th>9</th>\n",
       "      <th>10</th>\n",
       "      <th>11</th>\n",
       "      <th>12</th>\n",
       "      <th>13</th>\n",
       "      <th>14</th>\n",
       "      <th>15</th>\n",
       "      <th>16</th>\n",
       "      <th>17</th>\n",
       "      <th>18</th>\n",
       "      <th>19</th>\n",
       "      <th></th>\n",
       "    </tr>\n",
       "  </thead>\n",
       "  <tbody>\n",
       "    <tr>\n",
       "      <th>0</th>\n",
       "      <td> 0</td>\n",
       "      <td> 0</td>\n",
       "      <td> 0</td>\n",
       "      <td> 0</td>\n",
       "      <td> 0</td>\n",
       "      <td> 0</td>\n",
       "      <td> 0</td>\n",
       "      <td> 0</td>\n",
       "      <td> 0</td>\n",
       "      <td> 0</td>\n",
       "      <td> 0</td>\n",
       "      <td> 0</td>\n",
       "      <td> 0</td>\n",
       "      <td> 0</td>\n",
       "      <td> 0</td>\n",
       "      <td> 0</td>\n",
       "      <td> 0</td>\n",
       "      <td> 0</td>\n",
       "      <td> 0</td>\n",
       "      <td> 0</td>\n",
       "      <td>...</td>\n",
       "    </tr>\n",
       "    <tr>\n",
       "      <th>1</th>\n",
       "      <td> 1</td>\n",
       "      <td> 0</td>\n",
       "      <td> 0</td>\n",
       "      <td> 0</td>\n",
       "      <td> 0</td>\n",
       "      <td> 0</td>\n",
       "      <td> 0</td>\n",
       "      <td> 0</td>\n",
       "      <td> 0</td>\n",
       "      <td> 0</td>\n",
       "      <td> 0</td>\n",
       "      <td> 0</td>\n",
       "      <td> 0</td>\n",
       "      <td> 0</td>\n",
       "      <td> 0</td>\n",
       "      <td> 0</td>\n",
       "      <td> 0</td>\n",
       "      <td> 0</td>\n",
       "      <td> 0</td>\n",
       "      <td> 0</td>\n",
       "      <td>...</td>\n",
       "    </tr>\n",
       "    <tr>\n",
       "      <th>2</th>\n",
       "      <td> 2</td>\n",
       "      <td> 1</td>\n",
       "      <td> 0</td>\n",
       "      <td> 0</td>\n",
       "      <td> 0</td>\n",
       "      <td> 0</td>\n",
       "      <td> 0</td>\n",
       "      <td> 0</td>\n",
       "      <td> 0</td>\n",
       "      <td> 0</td>\n",
       "      <td> 0</td>\n",
       "      <td> 0</td>\n",
       "      <td> 0</td>\n",
       "      <td> 0</td>\n",
       "      <td> 0</td>\n",
       "      <td> 0</td>\n",
       "      <td> 0</td>\n",
       "      <td> 0</td>\n",
       "      <td> 0</td>\n",
       "      <td> 0</td>\n",
       "      <td>...</td>\n",
       "    </tr>\n",
       "    <tr>\n",
       "      <th>3</th>\n",
       "      <td> 3</td>\n",
       "      <td> 2</td>\n",
       "      <td> 1</td>\n",
       "      <td> 0</td>\n",
       "      <td> 0</td>\n",
       "      <td> 0</td>\n",
       "      <td> 0</td>\n",
       "      <td> 0</td>\n",
       "      <td> 0</td>\n",
       "      <td> 0</td>\n",
       "      <td> 0</td>\n",
       "      <td> 0</td>\n",
       "      <td> 0</td>\n",
       "      <td> 0</td>\n",
       "      <td> 0</td>\n",
       "      <td> 0</td>\n",
       "      <td> 0</td>\n",
       "      <td> 0</td>\n",
       "      <td> 0</td>\n",
       "      <td> 0</td>\n",
       "      <td>...</td>\n",
       "    </tr>\n",
       "    <tr>\n",
       "      <th>4</th>\n",
       "      <td> 4</td>\n",
       "      <td> 3</td>\n",
       "      <td> 2</td>\n",
       "      <td> 1</td>\n",
       "      <td> 0</td>\n",
       "      <td> 0</td>\n",
       "      <td> 0</td>\n",
       "      <td> 0</td>\n",
       "      <td> 0</td>\n",
       "      <td> 0</td>\n",
       "      <td> 0</td>\n",
       "      <td> 0</td>\n",
       "      <td> 0</td>\n",
       "      <td> 0</td>\n",
       "      <td> 0</td>\n",
       "      <td> 0</td>\n",
       "      <td> 0</td>\n",
       "      <td> 0</td>\n",
       "      <td> 0</td>\n",
       "      <td> 0</td>\n",
       "      <td>...</td>\n",
       "    </tr>\n",
       "  </tbody>\n",
       "</table>\n",
       "<p>5 rows × 50 columns</p>\n",
       "</div>"
      ],
      "text/plain": [
       "   0   1   2   3   4   5   6   7   8   9   10  11  12  13  14  15  16  17  18  \\\n",
       "0   0   0   0   0   0   0   0   0   0   0   0   0   0   0   0   0   0   0   0   \n",
       "1   1   0   0   0   0   0   0   0   0   0   0   0   0   0   0   0   0   0   0   \n",
       "2   2   1   0   0   0   0   0   0   0   0   0   0   0   0   0   0   0   0   0   \n",
       "3   3   2   1   0   0   0   0   0   0   0   0   0   0   0   0   0   0   0   0   \n",
       "4   4   3   2   1   0   0   0   0   0   0   0   0   0   0   0   0   0   0   0   \n",
       "\n",
       "   19      \n",
       "0   0 ...  \n",
       "1   0 ...  \n",
       "2   0 ...  \n",
       "3   0 ...  \n",
       "4   0 ...  \n",
       "\n",
       "[5 rows x 50 columns]"
      ]
     },
     "execution_count": 10,
     "metadata": {},
     "output_type": "execute_result"
    }
   ],
   "source": [
    "import datautil\n",
    "import pandas as pd\n",
    "\n",
    "places = pd.DataFrame(dataPlaces)\n",
    "speeds = pd.DataFrame(dataSpeeds)\n",
    "\n",
    "places.head()"
   ]
  },
  {
   "cell_type": "code",
   "execution_count": 11,
   "metadata": {
    "collapsed": false
   },
   "outputs": [],
   "source": [
    "# now let's put them into a csv so I can visualize them with R\n",
    "\n",
    "places.to_csv(\"Places2.csv\")\n",
    "speeds.to_csv(\"Speeds2.csv\")"
   ]
  }
 ],
 "metadata": {
  "kernelspec": {
   "display_name": "Python 2",
   "language": "python",
   "name": "python2"
  },
  "language_info": {
   "codemirror_mode": {
    "name": "ipython",
    "version": 2
   },
   "file_extension": ".py",
   "mimetype": "text/x-python",
   "name": "python",
   "nbconvert_exporter": "python",
   "pygments_lexer": "ipython2",
   "version": "2.7.10"
  }
 },
 "nbformat": 4,
 "nbformat_minor": 0
}
