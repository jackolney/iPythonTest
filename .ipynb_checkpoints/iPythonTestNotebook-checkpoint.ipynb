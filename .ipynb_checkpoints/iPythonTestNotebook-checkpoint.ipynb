{
 "cells": [
  {
   "cell_type": "markdown",
   "metadata": {},
   "source": [
    "# Hello.\n",
    "\n",
    "This should just be some markdown text."
   ]
  },
  {
   "cell_type": "code",
   "execution_count": 1,
   "metadata": {
    "collapsed": false
   },
   "outputs": [
    {
     "name": "stdout",
     "output_type": "stream",
     "text": [
      "/Users/Jack/git/iPythonTest\n"
     ]
    }
   ],
   "source": [
    "import os\n",
    "print os.getcwd()"
   ]
  },
  {
   "cell_type": "markdown",
   "metadata": {},
   "source": [
    "Now, I'm going to attempt to do some fun stuff in python from a tutorial by Alex Woods."
   ]
  },
  {
   "cell_type": "code",
   "execution_count": 2,
   "metadata": {
    "collapsed": true
   },
   "outputs": [],
   "source": [
    "class Car:\n",
    "    def __init__(self):\n",
    "        self.velocity = 0\n",
    "        self.position = 0\n",
    "        self.speeds = []\n",
    "        self.places = []\n",
    "    \n",
    "    def setVelocity(self, v):            # a negative value will slow the car down\n",
    "        self.velocity = v\n",
    "        \n",
    "    def getVelocity(self):\n",
    "        return self.velocity\n",
    "        \n",
    "    def getPos(self):\n",
    "        return self.position\n",
    "     \n",
    "    def resetPos(self):                # the cars are on a circular track\n",
    "        self.position = 0\n",
    "    \n",
    "    def moveUp(self): \n",
    "        self.places.append(self.position)      # I want to be able to visualize the data in some way later \n",
    "        self.speeds.append(self.velocity)\n",
    "        self.position += self.velocity\n",
    "        \n",
    "    def showHistory(self):\n",
    "        print(self.places)\n",
    "        \n",
    "    def getPlaces(self):\n",
    "        return self.places\n",
    "    \n",
    "    def getSpeeds(self):\n",
    "        return self.speeds"
   ]
  },
  {
   "cell_type": "code",
   "execution_count": 3,
   "metadata": {
    "collapsed": true
   },
   "outputs": [],
   "source": [
    "import random\n",
    "\n",
    "class Road:\n",
    "    def __init__(self, speedLimit, prob, cells):\n",
    "        self.road = []\n",
    "        self.speedLimit = speedLimit\n",
    "        self.prob = prob                  # the probability p in step 3\n",
    "        self.cells = cells\n",
    "        \n",
    "    def addCar(self, car):\n",
    "        self.road.append(car)\n",
    "        \n",
    "    def getCars(self):\n",
    "        return self.road\n",
    "    \n",
    "    def getLimit(self):\n",
    "        return self.speedLimit\n",
    "        \n",
    "    def increaseOne(self, ind):                 # Step 1\n",
    "        car = self.road[ind]\n",
    "        return min(car.getVelocity()+1, self.getLimit())\n",
    "    \n",
    "    def getDistance(self, carA, carB):                # carA has to be behind carB.\n",
    "        return carB.getPos() - carA.getPos()\n",
    "    \n",
    "    def adjustVelocity(self, ind1, ind2):               # carA is the car being updated! This is Step 2\n",
    "        carA = self.road[ind1]\n",
    "        carB = self.road[ind2]\n",
    "        v = min(self.getDistance(carA, carB)-1, carA.getVelocity())\n",
    "        v = max(v, 0)\n",
    "        return v\n",
    "    \n",
    "    def someRandomness(self, ind):              # Step 3\n",
    "        car = self.road[ind]\n",
    "        v = car.getVelocity()\n",
    "        if (random.random() < self.prob) and v > 1:\n",
    "            v -= 1\n",
    "        return v\n",
    "    \n",
    "    def update(self, ind, v):\n",
    "        car = self.road[ind]\n",
    "        car.setVelocity(v)\n",
    "    \n",
    "    def moveCar(self, ind, v):\n",
    "        car = self.road[ind]\n",
    "        car.setVelocity(v)\n",
    "        car.moveUp()\n",
    "    \n",
    "    def show(self):\n",
    "        print(\"Cars = \", len(self.road), \"\\n\", \"spaces = \", self.cells, \"\\n\", \"speed limit = \", self.speedLimit, \"\\n\", \"p = \", self.prob)"
   ]
  },
  {
   "cell_type": "code",
   "execution_count": 4,
   "metadata": {
    "collapsed": false
   },
   "outputs": [
    {
     "name": "stdout",
     "output_type": "stream",
     "text": [
      "('Cars = ', 50, '\\n', 'spaces = ', 60, '\\n', 'speed limit = ', 5, '\\n', 'p = ', 0.5)\n"
     ]
    }
   ],
   "source": [
    "monteCarlo = Road(5, 0.5, 60)        # a speed limit of 10 and a probability of .3\n",
    "\n",
    "for i in range(50):\n",
    "    temp = Car()\n",
    "    monteCarlo.addCar(temp)\n",
    "    \n",
    "monteCarlo.show()"
   ]
  },
  {
   "cell_type": "code",
   "execution_count": 5,
   "metadata": {
    "collapsed": false
   },
   "outputs": [],
   "source": [
    "# Ok now let's actually run the model.\n",
    "\n",
    "for i in range(200):\n",
    "    for j in range(len(monteCarlo.getCars())):\n",
    "        v = monteCarlo.increaseOne(j)                       # step 1\n",
    "        monteCarlo.update(j, v)\n",
    "#         print(\"v = \", v)                   # for debugging purposes\n",
    "        \n",
    "        if j != 0: v = monteCarlo.adjustVelocity(j, j-1)       # step 2\n",
    "        monteCarlo.update(j, v)\n",
    "#         print(\"v2 = \", v)\n",
    "            \n",
    "        v = monteCarlo.someRandomness(j)\n",
    "        monteCarlo.update(j, v)\n",
    "#         print(\"v3 = \", v)\n",
    "        \n",
    "        monteCarlo.moveCar(j, v)\n",
    "#         print(\"done\", \"\\n\")\n",
    "#     print(\"new round\")"
   ]
  },
  {
   "cell_type": "code",
   "execution_count": 6,
   "metadata": {
    "collapsed": false
   },
   "outputs": [
    {
     "name": "stdout",
     "output_type": "stream",
     "text": [
      "50\n",
      "[[  0   0   0 ...,   0   0   0]\n",
      " [  1   0   0 ...,   0   0   0]\n",
      " [  2   1   0 ...,   0   0   0]\n",
      " ..., \n",
      " [883 864 846 ..., 513 507 499]\n",
      " [888 869 850 ..., 517 512 504]\n",
      " [893 874 855 ..., 521 516 509]]\n"
     ]
    }
   ],
   "source": [
    "# now let's look at the results and see what we need to adjust.\n",
    "import numpy as np\n",
    "places = []\n",
    "speeds = []\n",
    "\n",
    "for i in monteCarlo.getCars():\n",
    "    places.append(i.getPlaces())\n",
    "    speeds.append(i.getSpeeds())\n",
    "\n",
    "print(len(speeds))      # each column represents a car, the rows represent time.\n",
    "\n",
    "pl = np.asarray(places)\n",
    "pl = pl.transpose()\n",
    "\n",
    "sp = np.asarray(speeds)\n",
    "sp = sp.transpose()\n",
    "\n",
    "print(pl)"
   ]
  },
  {
   "cell_type": "code",
   "execution_count": 7,
   "metadata": {
    "collapsed": false
   },
   "outputs": [
    {
     "data": {
      "text/plain": [
       "(200, 50)"
      ]
     },
     "execution_count": 7,
     "metadata": {},
     "output_type": "execute_result"
    }
   ],
   "source": [
    "pl.shape"
   ]
  },
  {
   "cell_type": "code",
   "execution_count": 8,
   "metadata": {
    "collapsed": true
   },
   "outputs": [],
   "source": [
    "# Each column in pl represents a car. Each row represents an iteration, or a passing of time.\n",
    "# now I'm going to make a dictionary so I can put it into a pandas dataframe easily\n",
    "\n",
    "dataPlaces = {}\n",
    "\n",
    "for i in range(50):\n",
    "    dataPlaces[i] = pl[:,i]"
   ]
  },
  {
   "cell_type": "code",
   "execution_count": 10,
   "metadata": {
    "collapsed": false
   },
   "outputs": [],
   "source": [
    "dataSpeeds = {}\n",
    "\n",
    "for i in range(50):\n",
    "    dataSpeeds[i] = sp[:,i]"
   ]
  },
  {
   "cell_type": "code",
   "execution_count": 11,
   "metadata": {
    "collapsed": false
   },
   "outputs": [
    {
     "name": "stdout",
     "output_type": "stream",
     "text": [
      "No module named dateutil\n"
     ]
    },
    {
     "ename": "ImportError",
     "evalue": "No module named dateutil",
     "output_type": "error",
     "traceback": [
      "\u001b[0;31m---------------------------------------------------------------------------\u001b[0m",
      "\u001b[0;31mImportError\u001b[0m                               Traceback (most recent call last)",
      "\u001b[0;32m<ipython-input-11-421d155b4097>\u001b[0m in \u001b[0;36m<module>\u001b[0;34m()\u001b[0m\n\u001b[0;32m----> 1\u001b[0;31m \u001b[0;32mimport\u001b[0m \u001b[0mpandas\u001b[0m \u001b[0;32mas\u001b[0m \u001b[0mpd\u001b[0m\u001b[0;34m\u001b[0m\u001b[0m\n\u001b[0m\u001b[1;32m      2\u001b[0m \u001b[0;34m\u001b[0m\u001b[0m\n\u001b[1;32m      3\u001b[0m \u001b[0mplaces\u001b[0m \u001b[0;34m=\u001b[0m \u001b[0mpd\u001b[0m\u001b[0;34m.\u001b[0m\u001b[0mDataFrame\u001b[0m\u001b[0;34m(\u001b[0m\u001b[0mdataPlaces\u001b[0m\u001b[0;34m)\u001b[0m\u001b[0;34m\u001b[0m\u001b[0m\n\u001b[1;32m      4\u001b[0m \u001b[0mspeeds\u001b[0m \u001b[0;34m=\u001b[0m \u001b[0mpd\u001b[0m\u001b[0;34m.\u001b[0m\u001b[0mDataFrame\u001b[0m\u001b[0;34m(\u001b[0m\u001b[0mdataSpeeds\u001b[0m\u001b[0;34m)\u001b[0m\u001b[0;34m\u001b[0m\u001b[0m\n\u001b[1;32m      5\u001b[0m \u001b[0;34m\u001b[0m\u001b[0m\n",
      "\u001b[0;32m/Library/Python/2.7/site-packages/pandas-0.13.0-py2.7-macosx-10.9-intel.egg/pandas/__init__.py\u001b[0m in \u001b[0;36m<module>\u001b[0;34m()\u001b[0m\n\u001b[1;32m      4\u001b[0m \u001b[0;34m\u001b[0m\u001b[0m\n\u001b[1;32m      5\u001b[0m \u001b[0;32mtry\u001b[0m\u001b[0;34m:\u001b[0m\u001b[0;34m\u001b[0m\u001b[0m\n\u001b[0;32m----> 6\u001b[0;31m     \u001b[0;32mfrom\u001b[0m \u001b[0;34m.\u001b[0m \u001b[0;32mimport\u001b[0m \u001b[0mhashtable\u001b[0m\u001b[0;34m,\u001b[0m \u001b[0mtslib\u001b[0m\u001b[0;34m,\u001b[0m \u001b[0mlib\u001b[0m\u001b[0;34m\u001b[0m\u001b[0m\n\u001b[0m\u001b[1;32m      7\u001b[0m \u001b[0;32mexcept\u001b[0m \u001b[0mException\u001b[0m\u001b[0;34m:\u001b[0m  \u001b[0;31m# pragma: no cover\u001b[0m\u001b[0;34m\u001b[0m\u001b[0m\n\u001b[1;32m      8\u001b[0m     \u001b[0;32mimport\u001b[0m \u001b[0msys\u001b[0m\u001b[0;34m\u001b[0m\u001b[0m\n",
      "\u001b[0;32mtslib.pyx\u001b[0m in \u001b[0;36minit pandas.tslib (pandas/tslib.c:51963)\u001b[0;34m()\u001b[0m\n",
      "\u001b[0;32m/Library/Python/2.7/site-packages/pandas-0.13.0-py2.7-macosx-10.9-intel.egg/pandas/compat/__init__.py\u001b[0m in \u001b[0;36m<module>\u001b[0;34m()\u001b[0m\n\u001b[1;32m    718\u001b[0m \u001b[0;31m# Thanks to @martineau at SO\u001b[0m\u001b[0;34m\u001b[0m\u001b[0;34m\u001b[0m\u001b[0m\n\u001b[1;32m    719\u001b[0m \u001b[0;34m\u001b[0m\u001b[0m\n\u001b[0;32m--> 720\u001b[0;31m \u001b[0;32mfrom\u001b[0m \u001b[0mdateutil\u001b[0m \u001b[0;32mimport\u001b[0m \u001b[0mparser\u001b[0m \u001b[0;32mas\u001b[0m \u001b[0m_date_parser\u001b[0m\u001b[0;34m\u001b[0m\u001b[0m\n\u001b[0m\u001b[1;32m    721\u001b[0m \u001b[0;32mimport\u001b[0m \u001b[0mdateutil\u001b[0m\u001b[0;34m\u001b[0m\u001b[0m\n\u001b[1;32m    722\u001b[0m \u001b[0;32mif\u001b[0m \u001b[0mLooseVersion\u001b[0m\u001b[0;34m(\u001b[0m\u001b[0mdateutil\u001b[0m\u001b[0;34m.\u001b[0m\u001b[0m__version__\u001b[0m\u001b[0;34m)\u001b[0m \u001b[0;34m<\u001b[0m \u001b[0;34m'2.0'\u001b[0m\u001b[0;34m:\u001b[0m\u001b[0;34m\u001b[0m\u001b[0m\n",
      "\u001b[0;31mImportError\u001b[0m: No module named dateutil"
     ]
    }
   ],
   "source": [
    "import pandas as pd\n",
    "\n",
    "places = pd.DataFrame(dataPlaces)\n",
    "speeds = pd.DataFrame(dataSpeeds)\n",
    "\n",
    "places.head()"
   ]
  },
  {
   "cell_type": "code",
   "execution_count": 12,
   "metadata": {
    "collapsed": false
   },
   "outputs": [
    {
     "ename": "AttributeError",
     "evalue": "'list' object has no attribute 'to_csv'",
     "output_type": "error",
     "traceback": [
      "\u001b[0;31m---------------------------------------------------------------------------\u001b[0m",
      "\u001b[0;31mAttributeError\u001b[0m                            Traceback (most recent call last)",
      "\u001b[0;32m<ipython-input-12-6a79d41ee954>\u001b[0m in \u001b[0;36m<module>\u001b[0;34m()\u001b[0m\n\u001b[1;32m      1\u001b[0m \u001b[0;31m# now let's put them into a csv so I can visualize them with R\u001b[0m\u001b[0;34m\u001b[0m\u001b[0;34m\u001b[0m\u001b[0m\n\u001b[1;32m      2\u001b[0m \u001b[0;34m\u001b[0m\u001b[0m\n\u001b[0;32m----> 3\u001b[0;31m \u001b[0mplaces\u001b[0m\u001b[0;34m.\u001b[0m\u001b[0mto_csv\u001b[0m\u001b[0;34m(\u001b[0m\u001b[0;34m\"Places2.csv\"\u001b[0m\u001b[0;34m)\u001b[0m\u001b[0;34m\u001b[0m\u001b[0m\n\u001b[0m\u001b[1;32m      4\u001b[0m \u001b[0mspeeds\u001b[0m\u001b[0;34m.\u001b[0m\u001b[0mto_csv\u001b[0m\u001b[0;34m(\u001b[0m\u001b[0;34m\"Speeds2.csv\"\u001b[0m\u001b[0;34m)\u001b[0m\u001b[0;34m\u001b[0m\u001b[0m\n",
      "\u001b[0;31mAttributeError\u001b[0m: 'list' object has no attribute 'to_csv'"
     ]
    }
   ],
   "source": [
    "# now let's put them into a csv so I can visualize them with R\n",
    "\n",
    "places.to_csv(\"Places2.csv\")\n",
    "speeds.to_csv(\"Speeds2.csv\")"
   ]
  },
  {
   "cell_type": "code",
   "execution_count": null,
   "metadata": {
    "collapsed": true
   },
   "outputs": [],
   "source": []
  }
 ],
 "metadata": {
  "kernelspec": {
   "display_name": "Python 2",
   "language": "python",
   "name": "python2"
  },
  "language_info": {
   "codemirror_mode": {
    "name": "ipython",
    "version": 2
   },
   "file_extension": ".py",
   "mimetype": "text/x-python",
   "name": "python",
   "nbconvert_exporter": "python",
   "pygments_lexer": "ipython2",
   "version": "2.7.10"
  }
 },
 "nbformat": 4,
 "nbformat_minor": 0
}
